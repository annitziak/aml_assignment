{
 "cells": [
  {
   "cell_type": "markdown",
   "metadata": {},
   "source": [
    "## Taxonomy data extraction\n",
    "\n",
    "**Format:**\n",
    "- *kingdom*: broadest classification (i.e., usually *Animalia* for animals)\n",
    "- *phylum*: groups organisms by body structure (e.g., *Chordata* for animals with a spinal cord)\n",
    "- *class*: broadly categorize by major traits (e.g., *Aves* for birds, *Mammalia* for mammals)\n",
    "- *family*: groups related genera indicating evolutionary relations\n",
    "- *genus*=*parent*: closely categorize species (i.e., first part of the scientific name) \n",
    "- *scientific_name*: corresponding to a single species' *id*"
   ]
  },
  {
   "cell_type": "markdown",
   "metadata": {},
   "source": [
    "### Preliminary code"
   ]
  },
  {
   "cell_type": "code",
   "execution_count": null,
   "metadata": {},
   "outputs": [],
   "source": [
    "# Importing useful packages\n",
    "from pathlib import Path\n",
    "import requests\n",
    "import numpy as np\n",
    "import pandas as pd"
   ]
  },
  {
   "cell_type": "code",
   "execution_count": null,
   "metadata": {},
   "outputs": [],
   "source": [
    "# Loading species data\n",
    "species_train = np.load(Path('../species/species_train.npz'))\n",
    "species_names = dict(zip(species_train['taxon_ids'].astype(str), species_train['taxon_names']))"
   ]
  },
  {
   "cell_type": "markdown",
   "metadata": {},
   "source": [
    "### Scraping data"
   ]
  },
  {
   "cell_type": "code",
   "execution_count": null,
   "metadata": {},
   "outputs": [],
   "source": [
    "def get_gbif_data(scientific_name, species_id):\n",
    "    url = f\"https://api.gbif.org/v1/species?name={scientific_name}\"\n",
    "    response = requests.get(url)\n",
    "    \n",
    "    if response.status_code == 200:\n",
    "        data = response.json()\n",
    "        if data['results']:\n",
    "            result = data['results'][0]\n",
    "            return {\n",
    "                'id': species_id,\n",
    "                'scientific_name': scientific_name,\n",
    "                'family': result.get('family', np.nan),\n",
    "                'kingdom': result.get('kingdom', np.nan),\n",
    "                'phylum': result.get('phylum', np.nan),\n",
    "                'parent': result.get('parent', np.nan),\n",
    "                'class': result.get('class', np.nan),\n",
    "                'genus': result.get('genus', np.nan)\n",
    "            }\n",
    "    \n",
    "    # Returning NaN if no results or error\n",
    "    return {\n",
    "        'id': species_id,\n",
    "        'scientific_name': scientific_name,\n",
    "        'family': np.nan,\n",
    "        'kingdom': np.nan,\n",
    "        'phylum': np.nan,\n",
    "        'parent': np.nan,\n",
    "        'class': np.nan,\n",
    "        'genus': np.nan\n",
    "    }\n",
    "\n",
    "# Fetching data into dataframe\n",
    "results = []\n",
    "for species_id, scientific_name in species_names.items():\n",
    "    species_data = get_gbif_data(scientific_name, species_id)\n",
    "    results.append(species_data)\n",
    "animals = pd.DataFrame(results)\n",
    "\n",
    "# Saving dataframe\n",
    "animals.to_csv('taxonomy.csv', index=False)"
   ]
  }
 ],
 "metadata": {
  "kernelspec": {
   "display_name": "Python 3",
   "language": "python",
   "name": "python3"
  },
  "language_info": {
   "codemirror_mode": {
    "name": "ipython",
    "version": 3
   },
   "file_extension": ".py",
   "mimetype": "text/x-python",
   "name": "python",
   "nbconvert_exporter": "python",
   "pygments_lexer": "ipython3",
   "version": "3.12.7"
  }
 },
 "nbformat": 4,
 "nbformat_minor": 2
}
