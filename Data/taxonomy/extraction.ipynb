{
 "cells": [
  {
   "cell_type": "markdown",
   "metadata": {},
   "source": [
    "# Taxonomy data extraction\n",
    "Family: Groups related genera, e.g., Agamidae for some lizards, indicating evolutionary relationships. <br>\n",
    "Kingdom: Broadest classification, often Animalia for animals. <br>\n",
    "Phylum: Groups organisms by body structure, e.g., Chordata for animals with a spinal cord. <br>\n",
    "Parent: Immediate higher rank, typically the genus, showing close lineage. <br>\n",
    "Class: Broad category like Aves (birds) or Mammalia (mammals), highlighting major traits. <br>\n",
    "Genus: Closest grouping above species, part of the scientific name (e.g., Lophognathus gilberti). <br>"
   ]
  },
  {
   "cell_type": "markdown",
   "metadata": {},
   "source": [
    "## Preliminary code"
   ]
  },
  {
   "cell_type": "code",
   "execution_count": null,
   "metadata": {},
   "outputs": [],
   "source": [
    "# Importing useful packages\n",
    "from pathlib import Path\n",
    "import requests\n",
    "import numpy as np\n",
    "import pandas as pd\n",
    "\n",
    "# Loading species data\n",
    "species_train = np.load(Path('../species/species_train.npz'))\n",
    "species_names = dict(zip(species_train['taxon_ids'], species_train['taxon_names']))"
   ]
  },
  {
   "cell_type": "markdown",
   "metadata": {},
   "source": [
    "# Data scraping"
   ]
  },
  {
   "cell_type": "code",
   "execution_count": null,
   "metadata": {},
   "outputs": [],
   "source": [
    "def get_gbif_data(scientific_name, species_id):\n",
    "    url = f\"https://api.gbif.org/v1/species?name={scientific_name}\"\n",
    "    response = requests.get(url)\n",
    "    \n",
    "    if response.status_code == 200:\n",
    "        data = response.json()\n",
    "        if data['results']:\n",
    "            result = data['results'][0]\n",
    "            return {\n",
    "                'id': species_id,  # Include species id in the result\n",
    "                'scientific_name': scientific_name,\n",
    "                'family': result.get('family', np.nan),\n",
    "                'kingdom': result.get('kingdom', np.nan),\n",
    "                'phylum': result.get('phylum', np.nan),\n",
    "                'parent': result.get('parent', np.nan),\n",
    "                'class': result.get('class', np.nan),\n",
    "                'genus': result.get('genus', np.nan)\n",
    "            }\n",
    "    \n",
    "    # If no results or error, return NaN values\n",
    "    return {\n",
    "        'id': species_id,\n",
    "        'scientific_name': scientific_name,\n",
    "        'family': np.nan,\n",
    "        'kingdom': np.nan,\n",
    "        'phylum': np.nan,\n",
    "        'parent': np.nan,\n",
    "        'class': np.nan,\n",
    "        'genus': np.nan\n",
    "    }\n",
    "\n",
    "# Fetching data into DF\n",
    "results = []\n",
    "for species_id, scientific_name in species_names.items():\n",
    "    species_data = get_gbif_data(scientific_name, species_id)\n",
    "    results.append(species_data)\n",
    "animals = pd.DataFrame(results)\n",
    "\n",
    "# Saving obtained dataframe\n",
    "animals.to_csv('taxonomy.csv', index=False)"
   ]
  }
 ],
 "metadata": {
  "language_info": {
   "name": "python"
  }
 },
 "nbformat": 4,
 "nbformat_minor": 2
}
