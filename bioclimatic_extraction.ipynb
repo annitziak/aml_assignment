{
 "cells": [
  {
   "cell_type": "code",
   "execution_count": 6,
   "id": "5c052eb9",
   "metadata": {},
   "outputs": [],
   "source": [
    "import tifffile\n",
    "import rasterio\n",
    "from rasterio.transform import xy\n",
    "from rasterio.transform import rowcol\n",
    "import numpy as np\n",
    "import pandas as pd\n",
    "import matplotlib.pyplot as plt"
   ]
  },
  {
   "cell_type": "markdown",
   "id": "11474fec",
   "metadata": {},
   "source": [
    "**Variables that could be of interest:**\n",
    "- BIO1: Annual Mean Temperature\n",
    "- BIO12: Annual Precipitation\n",
    "- BIO5: Max Temperature of Warmest Month\n",
    "- BIO6: Min Temperature of Coldest Month\n",
    "- BIO15: Precipitation Seasonality (Coefficient of Variation)"
   ]
  },
  {
   "cell_type": "markdown",
   "id": "c493dec5",
   "metadata": {},
   "source": [
    "# Checking data extraction system"
   ]
  },
  {
   "cell_type": "markdown",
   "id": "1da0cfcb",
   "metadata": {},
   "source": [
    "**Process:**\n",
    "1. Check what coordinate system the tiff uses so that you can query a pixel to get the corresponding features for a location of interest.\n",
    "2. Check what coordinate system the training set uses to make sure the mapping is similar\n",
    " "
   ]
  },
  {
   "cell_type": "code",
   "execution_count": 7,
   "id": "85931a19",
   "metadata": {},
   "outputs": [
    {
     "name": "stdout",
     "output_type": "stream",
     "text": [
      "Coordinate Reference System: EPSG:4326\n",
      "Transformation: | 0.17, 0.00,-180.00|\n",
      "| 0.00,-0.17, 90.00|\n",
      "| 0.00, 0.00, 1.00|\n",
      "Coordinate Reference System: EPSG:4326\n",
      "Transformation: | 0.17, 0.00,-180.00|\n",
      "| 0.00,-0.17, 90.00|\n",
      "| 0.00, 0.00, 1.00|\n",
      "Coordinate Reference System: EPSG:4326\n",
      "Transformation: | 0.17, 0.00,-180.00|\n",
      "| 0.00,-0.17, 90.00|\n",
      "| 0.00, 0.00, 1.00|\n",
      "Coordinate Reference System: EPSG:4326\n",
      "Transformation: | 0.17, 0.00,-180.00|\n",
      "| 0.00,-0.17, 90.00|\n",
      "| 0.00, 0.00, 1.00|\n",
      "An example:\n",
      "Coordinates for pixel (540, 1080): Lon: 0.08333333333331439, Lat: -0.0833333333333286\n",
      "Pixel value at (540, 1080): -3.3999999521443642e+38\n"
     ]
    }
   ],
   "source": [
    "# 1) Checking what coordinate system the tiff uses\n",
    "\n",
    "input_files = ['wc2.1_10m_bio_1.tif', 'wc2.1_10m_bio_5.tif', 'wc2.1_10m_bio_12.tif', 'wc2.1_10m_bio_15.tif']\n",
    "\n",
    "# Open the TIFF file\n",
    "for file in input_files:\n",
    "    with rasterio.open('Data\\\\bioclimatic\\\\'+file) as dataset:\n",
    "    # Check the coordinate reference system\n",
    "        crs = dataset.crs\n",
    "        print(f\"Coordinate Reference System: {crs}\")\n",
    "\n",
    "    # Check the transformation matrix (maps pixel to coordinates)\n",
    "        transform = dataset.transform\n",
    "        print(f\"Transformation: {transform}\")\n",
    "# Example pixel coordinates (row, col)\n",
    "row, col = 540, 1080\n",
    "\n",
    "print(\"An example:\")\n",
    "# Get geographic coordinates (longitude, latitude)\n",
    "with rasterio.open('Data\\\\bioclimatic\\\\wc2.1_10m_bio_6.tif') as dataset:\n",
    "    lon, lat = xy(dataset.transform, row, col)\n",
    "    print(f\"Coordinates for pixel ({row}, {col}): Lon: {lon}, Lat: {lat}\")\n",
    "    pixel_value = dataset.read(1)[row, col]\n",
    "    print(f\"Pixel value at ({row}, {col}): {pixel_value}\")"
   ]
  },
  {
   "cell_type": "markdown",
   "id": "c56aedfb",
   "metadata": {},
   "source": [
    "*They are all in the same reference system with the same transformation matrix (as expected)*\n",
    "\n",
    "Wikipedia :EPSG:4326 - WGS 84, latitude/longitude coordinate system based on the Earth's center of mass, used by the Global Positioning System among others."
   ]
  },
  {
   "cell_type": "code",
   "execution_count": 8,
   "id": "581e6426",
   "metadata": {},
   "outputs": [
    {
     "name": "stdout",
     "output_type": "stream",
     "text": [
      "True\n",
      "True\n"
     ]
    }
   ],
   "source": [
    "# 2) Check what coordinate system the training set uses\n",
    "\n",
    "# Loading training data    \n",
    "data = np.load('Data\\\\species\\\\species_train.npz')\n",
    "train_locs = data['train_locs']  # 2D array, rows are number of datapoints and columns are \"latitude\" and \"longitude\"\n",
    "train_ids = data['train_ids']\n",
    "    \n",
    "# Checking that they also follow EPSG:4326\n",
    "# Check the latitude and longitude ranges\n",
    "latitudes = train_locs[:, 0]  # first column (latitude)\n",
    "longitudes = train_locs[:, 1]  # second column (longitude)\n",
    "\n",
    "# Check if latitudes and longitudes are within valid ranges\n",
    "print((-90 <= latitudes).all() and (latitudes <= 90).all())\n",
    "print((-180 <= longitudes).all() and (longitudes <= 180).all())"
   ]
  },
  {
   "cell_type": "markdown",
   "id": "cb8b09ff",
   "metadata": {},
   "source": [
    "# Extracting data"
   ]
  },
  {
   "cell_type": "code",
   "execution_count": 9,
   "id": "87b1de07",
   "metadata": {},
   "outputs": [
    {
     "data": {
      "text/plain": [
       "(100, 2)"
      ]
     },
     "execution_count": 9,
     "metadata": {},
     "output_type": "execute_result"
    }
   ],
   "source": [
    "# Working with smaller dataset to understand\n",
    "train_locs_test = train_locs[:100]\n",
    "train_ids_test = train_ids[:100]\n",
    "train_locs_test.shape"
   ]
  },
  {
   "cell_type": "code",
   "execution_count": 10,
   "id": "2d8d98fd",
   "metadata": {},
   "outputs": [
    {
     "data": {
      "text/html": [
       "<div>\n",
       "<style scoped>\n",
       "    .dataframe tbody tr th:only-of-type {\n",
       "        vertical-align: middle;\n",
       "    }\n",
       "\n",
       "    .dataframe tbody tr th {\n",
       "        vertical-align: top;\n",
       "    }\n",
       "\n",
       "    .dataframe thead th {\n",
       "        text-align: right;\n",
       "    }\n",
       "</style>\n",
       "<table border=\"1\" class=\"dataframe\">\n",
       "  <thead>\n",
       "    <tr style=\"text-align: right;\">\n",
       "      <th></th>\n",
       "      <th>ID</th>\n",
       "      <th>Latitude</th>\n",
       "      <th>Longitude</th>\n",
       "      <th>BIO1</th>\n",
       "      <th>BIO5</th>\n",
       "      <th>BI06</th>\n",
       "      <th>BIO12</th>\n",
       "      <th>BIO15</th>\n",
       "    </tr>\n",
       "  </thead>\n",
       "  <tbody>\n",
       "    <tr>\n",
       "      <th>0</th>\n",
       "      <td>31529</td>\n",
       "      <td>-18.286728</td>\n",
       "      <td>143.481247</td>\n",
       "      <td>25.830833</td>\n",
       "      <td>36.812252</td>\n",
       "      <td>12.26175</td>\n",
       "      <td>778.0</td>\n",
       "      <td>118.931313</td>\n",
       "    </tr>\n",
       "    <tr>\n",
       "      <th>1</th>\n",
       "      <td>31529</td>\n",
       "      <td>-13.099798</td>\n",
       "      <td>130.783646</td>\n",
       "      <td>26.970772</td>\n",
       "      <td>35.256001</td>\n",
       "      <td>15.94425</td>\n",
       "      <td>1637.0</td>\n",
       "      <td>106.943298</td>\n",
       "    </tr>\n",
       "    <tr>\n",
       "      <th>2</th>\n",
       "      <td>31529</td>\n",
       "      <td>-13.965274</td>\n",
       "      <td>131.695145</td>\n",
       "      <td>27.042313</td>\n",
       "      <td>37.103500</td>\n",
       "      <td>15.02150</td>\n",
       "      <td>1190.0</td>\n",
       "      <td>112.085449</td>\n",
       "    </tr>\n",
       "    <tr>\n",
       "      <th>3</th>\n",
       "      <td>31529</td>\n",
       "      <td>-12.853950</td>\n",
       "      <td>132.800507</td>\n",
       "      <td>27.847281</td>\n",
       "      <td>36.489750</td>\n",
       "      <td>17.33075</td>\n",
       "      <td>1438.0</td>\n",
       "      <td>111.659103</td>\n",
       "    </tr>\n",
       "    <tr>\n",
       "      <th>4</th>\n",
       "      <td>31529</td>\n",
       "      <td>-12.196790</td>\n",
       "      <td>134.279327</td>\n",
       "      <td>27.310499</td>\n",
       "      <td>35.029251</td>\n",
       "      <td>18.08950</td>\n",
       "      <td>1250.0</td>\n",
       "      <td>112.806938</td>\n",
       "    </tr>\n",
       "  </tbody>\n",
       "</table>\n",
       "</div>"
      ],
      "text/plain": [
       "      ID   Latitude   Longitude       BIO1       BIO5      BI06   BIO12  \\\n",
       "0  31529 -18.286728  143.481247  25.830833  36.812252  12.26175   778.0   \n",
       "1  31529 -13.099798  130.783646  26.970772  35.256001  15.94425  1637.0   \n",
       "2  31529 -13.965274  131.695145  27.042313  37.103500  15.02150  1190.0   \n",
       "3  31529 -12.853950  132.800507  27.847281  36.489750  17.33075  1438.0   \n",
       "4  31529 -12.196790  134.279327  27.310499  35.029251  18.08950  1250.0   \n",
       "\n",
       "        BIO15  \n",
       "0  118.931313  \n",
       "1  106.943298  \n",
       "2  112.085449  \n",
       "3  111.659103  \n",
       "4  112.806938  "
      ]
     },
     "execution_count": 10,
     "metadata": {},
     "output_type": "execute_result"
    }
   ],
   "source": [
    "# Input files corresponding to the BIO variables (add any input files that you want)\n",
    "input_files = ['wc2.1_10m_bio_1.tif',  # BIO1: Annual Mean Temperature\n",
    "               'wc2.1_10m_bio_5.tif',  # BIO5: Max Temperature of Warmest Month\n",
    "               'wc2.1_10m_bio_6.tif',  # BIO6 = Min Temperature of Coldest Month\n",
    "               'wc2.1_10m_bio_12.tif', # BIO12: Annual Precipitation\n",
    "               'wc2.1_10m_bio_15.tif'] # BIO15: Precipitation Seasonality (Coefficient of Variation)\n",
    "\n",
    "# Empty list to store the values from each TIFF file\n",
    "mapped_values = np.zeros((train_locs_test.shape[0], len(input_files)))\n",
    "\n",
    "for idx, tiff_file in enumerate(input_files):\n",
    "    with rasterio.open('Data\\\\bioclimatic\\\\'+tiff_file) as dataset:\n",
    "        transform = dataset.transform\n",
    "        \n",
    "        # Convert lat/lon coordinates to (row, col) pixel coordinates for all locations\n",
    "        lon_lats = train_locs_test[:, ::-1]  # reverse to get (lon, lat) for rasterio -> different requirements\n",
    "        rows_cols = np.array([rowcol(transform, lon, lat) for lon, lat in lon_lats])\n",
    "        \n",
    "        # Extract the pixel values from the raster for each (row, col)\n",
    "        for i, (row, col) in enumerate(rows_cols):\n",
    "            row, col = int(row), int(col) # potential issues\n",
    "            \n",
    "            # Read the value from the TIFF file at the corresponding pixel\n",
    "            mapped_values[i, idx] = dataset.read(1)[row, col]  # layer/band 1\n",
    "\n",
    "column_names = ['Latitude', 'Longitude', 'BIO1', 'BIO5', 'BI06', 'BIO12', 'BIO15']\n",
    "train_locs_extended = pd.DataFrame(np.hstack((train_locs_test, mapped_values)), columns=column_names)\n",
    "\n",
    "train_locs_extended.insert(0, \"ID\", train_ids_test) # insert also the ID column\n",
    "\n",
    "# Print or save the DataFrame as needed\n",
    "train_locs_extended.head()"
   ]
  }
 ],
 "metadata": {
  "kernelspec": {
   "display_name": "Python 3",
   "language": "python",
   "name": "python3"
  },
  "language_info": {
   "codemirror_mode": {
    "name": "ipython",
    "version": 3
   },
   "file_extension": ".py",
   "mimetype": "text/x-python",
   "name": "python",
   "nbconvert_exporter": "python",
   "pygments_lexer": "ipython3",
   "version": "3.12.7"
  }
 },
 "nbformat": 4,
 "nbformat_minor": 5
}
